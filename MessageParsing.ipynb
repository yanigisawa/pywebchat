{
 "metadata": {
  "name": "",
  "signature": "sha256:47ef7d4225a74612747c522dfd6839bf2e9d76b2f30b47934643c526d485f206"
 },
 "nbformat": 3,
 "nbformat_minor": 0,
 "worksheets": [
  {
   "cells": [
    {
     "cell_type": "code",
     "collapsed": false,
     "input": [
      "from boto.dynamodb2.layer1 import DynamoDBConnection\n",
      "from boto.dynamodb2.fields import HashKey, RangeKey\n",
      "from boto.dynamodb2.table import Table"
     ],
     "language": "python",
     "metadata": {},
     "outputs": [],
     "prompt_number": 11
    },
    {
     "cell_type": "code",
     "collapsed": false,
     "input": [
      "with open ('test2_data.json') as f:\n",
      "    test_json = f.readline()"
     ],
     "language": "python",
     "metadata": {},
     "outputs": [],
     "prompt_number": 12
    },
    {
     "cell_type": "code",
     "collapsed": false,
     "input": [
      "test_json"
     ],
     "language": "python",
     "metadata": {},
     "outputs": [
      {
       "metadata": {},
       "output_type": "pyout",
       "prompt_number": 13,
       "text": [
        "'[{\"date\": \"2015-01-15T13:32:46.030858\", \"message\": \"test message 13\", \"user\": \"test user13\", \"filterHTML\": true}, {\"date\": \"2015-01-15T12:32:46.030858\", \"message\": \"test message 12\", \"user\": \"test user12\", \"filterHTML\": true}, {\"date\": \"2015-01-15T11:32:46.030858\", \"message\": \"test message 11\", \"user\": \"test user11\", \"filterHTML\": true}, {\"date\": \"2015-01-15T10:32:46.030858\", \"message\": \"test message 10\", \"user\": \"test user10\", \"filterHTML\": true}, {\"date\": \"2015-01-15T09:32:46.030858\", \"message\": \"test message 9\", \"user\": \"test user9\", \"filterHTML\": true}, {\"date\": \"2015-01-15T08:32:46.030858\", \"message\": \"test message 8\", \"user\": \"test user8\", \"filterHTML\": true}, {\"date\": \"2015-01-15T07:32:46.030858\", \"message\": \"test message 7\", \"user\": \"test user7\", \"filterHTML\": true}, {\"date\": \"2015-01-15T06:32:46.030858\", \"message\": \"test message 6\", \"user\": \"test user6\", \"filterHTML\": true}, {\"date\": \"2015-01-15T05:32:46.030858\", \"message\": \"test message 5\", \"user\": \"test user5\", \"filterHTML\": true}, {\"date\": \"2015-01-15T04:32:46.030858\", \"message\": \"test message 4\", \"user\": \"test user4\", \"filterHTML\": true}, {\"date\": \"2015-01-15T03:32:46.030858\", \"message\": \"test message 3\", \"user\": \"test user3\", \"filterHTML\": true}, {\"date\": \"2015-01-15T02:32:46.030858\", \"message\": \"test message 2\", \"user\": \"test user2\", \"filterHTML\": true}, {\"date\": \"2015-01-15T01:32:46.030858\", \"message\": \"test message 1\", \"user\": \"test user1\", \"filterHTML\": true}, {\"date\": \"2015-01-15T00:32:46.030858\", \"message\": \"test message 0\", \"user\": \"test user0\", \"filterHTML\": true}]'"
       ]
      }
     ],
     "prompt_number": 13
    },
    {
     "cell_type": "code",
     "collapsed": false,
     "input": [
      "# http://docs.aws.amazon.com/amazondynamodb/latest/developerguide/Tools.DynamoDBLocal.html\n",
      "conn = DynamoDBConnection(\n",
      "    host = 'localhost',\n",
      "    port = 8000,\n",
      "    aws_access_key_id = 'demo',\n",
      "    aws_secret_access_key = 'demo',\n",
      "    is_secure = False)"
     ],
     "language": "python",
     "metadata": {},
     "outputs": [],
     "prompt_number": 14
    },
    {
     "cell_type": "code",
     "collapsed": false,
     "input": [
      "msg_table = Table.create('demo_message', \n",
      "    schema=[\n",
      "        HashKey('date_string'), # e.g. 2015_01_13\n",
      "        RangeKey('date')        # e.g. 2015-01-13T00:00:00\n",
      "    ],  \n",
      "    connection = conn)"
     ],
     "language": "python",
     "metadata": {},
     "outputs": [],
     "prompt_number": 15
    },
    {
     "cell_type": "code",
     "collapsed": false,
     "input": [
      "msg_table.describe()"
     ],
     "language": "python",
     "metadata": {},
     "outputs": [
      {
       "metadata": {},
       "output_type": "pyout",
       "prompt_number": 16,
       "text": [
        "{u'Table': {u'AttributeDefinitions': [{u'AttributeName': u'date_string',\n",
        "    u'AttributeType': u'S'},\n",
        "   {u'AttributeName': u'date', u'AttributeType': u'S'}],\n",
        "  u'CreationDateTime': 1421331391.17,\n",
        "  u'ItemCount': 0,\n",
        "  u'KeySchema': [{u'AttributeName': u'date_string', u'KeyType': u'HASH'},\n",
        "   {u'AttributeName': u'date', u'KeyType': u'RANGE'}],\n",
        "  u'ProvisionedThroughput': {u'NumberOfDecreasesToday': 0,\n",
        "   u'ReadCapacityUnits': 5,\n",
        "   u'WriteCapacityUnits': 5},\n",
        "  u'TableName': u'demo_message',\n",
        "  u'TableSizeBytes': 0,\n",
        "  u'TableStatus': u'ACTIVE'}}"
       ]
      }
     ],
     "prompt_number": 16
    },
    {
     "cell_type": "code",
     "collapsed": false,
     "input": [
      "import chatModels as cm\n",
      "import chat_db as db"
     ],
     "language": "python",
     "metadata": {},
     "outputs": [],
     "prompt_number": 17
    },
    {
     "cell_type": "code",
     "collapsed": false,
     "input": [
      "msgs = cm.getMessageArrayFromJson(test_json)\n",
      "msgs"
     ],
     "language": "python",
     "metadata": {},
     "outputs": [
      {
       "metadata": {},
       "output_type": "pyout",
       "prompt_number": 18,
       "text": [
        "[Date: 2015-01-15 13:32:46.030858 - User: test user13 - Message: test message 13,\n",
        " Date: 2015-01-15 12:32:46.030858 - User: test user12 - Message: test message 12,\n",
        " Date: 2015-01-15 11:32:46.030858 - User: test user11 - Message: test message 11,\n",
        " Date: 2015-01-15 10:32:46.030858 - User: test user10 - Message: test message 10,\n",
        " Date: 2015-01-15 09:32:46.030858 - User: test user9 - Message: test message 9,\n",
        " Date: 2015-01-15 08:32:46.030858 - User: test user8 - Message: test message 8,\n",
        " Date: 2015-01-15 07:32:46.030858 - User: test user7 - Message: test message 7,\n",
        " Date: 2015-01-15 06:32:46.030858 - User: test user6 - Message: test message 6,\n",
        " Date: 2015-01-15 05:32:46.030858 - User: test user5 - Message: test message 5,\n",
        " Date: 2015-01-15 04:32:46.030858 - User: test user4 - Message: test message 4,\n",
        " Date: 2015-01-15 03:32:46.030858 - User: test user3 - Message: test message 3,\n",
        " Date: 2015-01-15 02:32:46.030858 - User: test user2 - Message: test message 2,\n",
        " Date: 2015-01-15 01:32:46.030858 - User: test user1 - Message: test message 1,\n",
        " Date: 2015-01-15 00:32:46.030858 - User: test user0 - Message: test message 0]"
       ]
      }
     ],
     "prompt_number": 18
    },
    {
     "cell_type": "code",
     "collapsed": false,
     "input": [
      "msg_table.put_item(data = msgs[0].__dict__)"
     ],
     "language": "python",
     "metadata": {},
     "outputs": [
      {
       "ename": "TypeError",
       "evalue": "Unsupported type \"<type 'datetime.datetime'>\" for value \"2015-01-15 13:32:46.030858\"",
       "output_type": "pyerr",
       "traceback": [
        "\u001b[0;31m---------------------------------------------------------------------------\u001b[0m\n\u001b[0;31mTypeError\u001b[0m                                 Traceback (most recent call last)",
        "\u001b[0;32m<ipython-input-19-77bbae5bde84>\u001b[0m in \u001b[0;36m<module>\u001b[0;34m()\u001b[0m\n\u001b[0;32m----> 1\u001b[0;31m \u001b[0mmsg_table\u001b[0m\u001b[0;34m.\u001b[0m\u001b[0mput_item\u001b[0m\u001b[0;34m(\u001b[0m\u001b[0mdata\u001b[0m \u001b[0;34m=\u001b[0m \u001b[0mmsgs\u001b[0m\u001b[0;34m[\u001b[0m\u001b[0;36m0\u001b[0m\u001b[0;34m]\u001b[0m\u001b[0;34m.\u001b[0m\u001b[0m__dict__\u001b[0m\u001b[0;34m)\u001b[0m\u001b[0;34m\u001b[0m\u001b[0m\n\u001b[0m",
        "\u001b[0;32m/Users/jalexander/.virtualenvs/pywebchat/lib/python2.7/site-packages/boto/dynamodb2/table.pyc\u001b[0m in \u001b[0;36mput_item\u001b[0;34m(self, data, overwrite)\u001b[0m\n\u001b[1;32m    601\u001b[0m         \"\"\"\n\u001b[1;32m    602\u001b[0m         \u001b[0mitem\u001b[0m \u001b[0;34m=\u001b[0m \u001b[0mItem\u001b[0m\u001b[0;34m(\u001b[0m\u001b[0mself\u001b[0m\u001b[0;34m,\u001b[0m \u001b[0mdata\u001b[0m\u001b[0;34m=\u001b[0m\u001b[0mdata\u001b[0m\u001b[0;34m)\u001b[0m\u001b[0;34m\u001b[0m\u001b[0m\n\u001b[0;32m--> 603\u001b[0;31m         \u001b[0;32mreturn\u001b[0m \u001b[0mitem\u001b[0m\u001b[0;34m.\u001b[0m\u001b[0msave\u001b[0m\u001b[0;34m(\u001b[0m\u001b[0moverwrite\u001b[0m\u001b[0;34m=\u001b[0m\u001b[0moverwrite\u001b[0m\u001b[0;34m)\u001b[0m\u001b[0;34m\u001b[0m\u001b[0m\n\u001b[0m\u001b[1;32m    604\u001b[0m \u001b[0;34m\u001b[0m\u001b[0m\n\u001b[1;32m    605\u001b[0m     \u001b[0;32mdef\u001b[0m \u001b[0m_put_item\u001b[0m\u001b[0;34m(\u001b[0m\u001b[0mself\u001b[0m\u001b[0;34m,\u001b[0m \u001b[0mitem_data\u001b[0m\u001b[0;34m,\u001b[0m \u001b[0mexpects\u001b[0m\u001b[0;34m=\u001b[0m\u001b[0mNone\u001b[0m\u001b[0;34m)\u001b[0m\u001b[0;34m:\u001b[0m\u001b[0;34m\u001b[0m\u001b[0m\n",
        "\u001b[0;32m/Users/jalexander/.virtualenvs/pywebchat/lib/python2.7/site-packages/boto/dynamodb2/items.pyc\u001b[0m in \u001b[0;36msave\u001b[0;34m(self, overwrite)\u001b[0m\n\u001b[1;32m    443\u001b[0m             \u001b[0;32mreturn\u001b[0m \u001b[0mFalse\u001b[0m\u001b[0;34m\u001b[0m\u001b[0m\n\u001b[1;32m    444\u001b[0m \u001b[0;34m\u001b[0m\u001b[0m\n\u001b[0;32m--> 445\u001b[0;31m         \u001b[0mfinal_data\u001b[0m \u001b[0;34m=\u001b[0m \u001b[0mself\u001b[0m\u001b[0;34m.\u001b[0m\u001b[0mprepare_full\u001b[0m\u001b[0;34m(\u001b[0m\u001b[0;34m)\u001b[0m\u001b[0;34m\u001b[0m\u001b[0m\n\u001b[0m\u001b[1;32m    446\u001b[0m         \u001b[0mexpects\u001b[0m \u001b[0;34m=\u001b[0m \u001b[0mNone\u001b[0m\u001b[0;34m\u001b[0m\u001b[0m\n\u001b[1;32m    447\u001b[0m \u001b[0;34m\u001b[0m\u001b[0m\n",
        "\u001b[0;32m/Users/jalexander/.virtualenvs/pywebchat/lib/python2.7/site-packages/boto/dynamodb2/items.pyc\u001b[0m in \u001b[0;36mprepare_full\u001b[0;34m(self)\u001b[0m\n\u001b[1;32m    324\u001b[0m                 \u001b[0;32mcontinue\u001b[0m\u001b[0;34m\u001b[0m\u001b[0m\n\u001b[1;32m    325\u001b[0m \u001b[0;34m\u001b[0m\u001b[0m\n\u001b[0;32m--> 326\u001b[0;31m             \u001b[0mfinal_data\u001b[0m\u001b[0;34m[\u001b[0m\u001b[0mkey\u001b[0m\u001b[0;34m]\u001b[0m \u001b[0;34m=\u001b[0m \u001b[0mself\u001b[0m\u001b[0;34m.\u001b[0m\u001b[0m_dynamizer\u001b[0m\u001b[0;34m.\u001b[0m\u001b[0mencode\u001b[0m\u001b[0;34m(\u001b[0m\u001b[0mvalue\u001b[0m\u001b[0;34m)\u001b[0m\u001b[0;34m\u001b[0m\u001b[0m\n\u001b[0m\u001b[1;32m    327\u001b[0m \u001b[0;34m\u001b[0m\u001b[0m\n\u001b[1;32m    328\u001b[0m         \u001b[0;32mreturn\u001b[0m \u001b[0mfinal_data\u001b[0m\u001b[0;34m\u001b[0m\u001b[0m\n",
        "\u001b[0;32m/Users/jalexander/.virtualenvs/pywebchat/lib/python2.7/site-packages/boto/dynamodb/types.pyc\u001b[0m in \u001b[0;36mencode\u001b[0;34m(self, attr)\u001b[0m\n\u001b[1;32m    229\u001b[0m \u001b[0;34m\u001b[0m\u001b[0m\n\u001b[1;32m    230\u001b[0m         \"\"\"\n\u001b[0;32m--> 231\u001b[0;31m         \u001b[0mdynamodb_type\u001b[0m \u001b[0;34m=\u001b[0m \u001b[0mself\u001b[0m\u001b[0;34m.\u001b[0m\u001b[0m_get_dynamodb_type\u001b[0m\u001b[0;34m(\u001b[0m\u001b[0mattr\u001b[0m\u001b[0;34m)\u001b[0m\u001b[0;34m\u001b[0m\u001b[0m\n\u001b[0m\u001b[1;32m    232\u001b[0m         \u001b[0;32mtry\u001b[0m\u001b[0;34m:\u001b[0m\u001b[0;34m\u001b[0m\u001b[0m\n\u001b[1;32m    233\u001b[0m             \u001b[0mencoder\u001b[0m \u001b[0;34m=\u001b[0m \u001b[0mgetattr\u001b[0m\u001b[0;34m(\u001b[0m\u001b[0mself\u001b[0m\u001b[0;34m,\u001b[0m \u001b[0;34m'_encode_%s'\u001b[0m \u001b[0;34m%\u001b[0m \u001b[0mdynamodb_type\u001b[0m\u001b[0;34m.\u001b[0m\u001b[0mlower\u001b[0m\u001b[0;34m(\u001b[0m\u001b[0;34m)\u001b[0m\u001b[0;34m)\u001b[0m\u001b[0;34m\u001b[0m\u001b[0m\n",
        "\u001b[0;32m/Users/jalexander/.virtualenvs/pywebchat/lib/python2.7/site-packages/boto/dynamodb/types.pyc\u001b[0m in \u001b[0;36m_get_dynamodb_type\u001b[0;34m(self, attr)\u001b[0m\n\u001b[1;32m    221\u001b[0m     \"\"\"\n\u001b[1;32m    222\u001b[0m     \u001b[0;32mdef\u001b[0m \u001b[0m_get_dynamodb_type\u001b[0m\u001b[0;34m(\u001b[0m\u001b[0mself\u001b[0m\u001b[0;34m,\u001b[0m \u001b[0mattr\u001b[0m\u001b[0;34m)\u001b[0m\u001b[0;34m:\u001b[0m\u001b[0;34m\u001b[0m\u001b[0m\n\u001b[0;32m--> 223\u001b[0;31m         \u001b[0;32mreturn\u001b[0m \u001b[0mget_dynamodb_type\u001b[0m\u001b[0;34m(\u001b[0m\u001b[0mattr\u001b[0m\u001b[0;34m)\u001b[0m\u001b[0;34m\u001b[0m\u001b[0m\n\u001b[0m\u001b[1;32m    224\u001b[0m \u001b[0;34m\u001b[0m\u001b[0m\n\u001b[1;32m    225\u001b[0m     \u001b[0;32mdef\u001b[0m \u001b[0mencode\u001b[0m\u001b[0;34m(\u001b[0m\u001b[0mself\u001b[0m\u001b[0;34m,\u001b[0m \u001b[0mattr\u001b[0m\u001b[0;34m)\u001b[0m\u001b[0;34m:\u001b[0m\u001b[0;34m\u001b[0m\u001b[0m\n",
        "\u001b[0;32m/Users/jalexander/.virtualenvs/pywebchat/lib/python2.7/site-packages/boto/dynamodb/types.pyc\u001b[0m in \u001b[0;36mget_dynamodb_type\u001b[0;34m(val)\u001b[0m\n\u001b[1;32m    108\u001b[0m     \u001b[0;32mif\u001b[0m \u001b[0mdynamodb_type\u001b[0m \u001b[0;32mis\u001b[0m \u001b[0mNone\u001b[0m\u001b[0;34m:\u001b[0m\u001b[0;34m\u001b[0m\u001b[0m\n\u001b[1;32m    109\u001b[0m         \u001b[0mmsg\u001b[0m \u001b[0;34m=\u001b[0m \u001b[0;34m'Unsupported type \"%s\" for value \"%s\"'\u001b[0m \u001b[0;34m%\u001b[0m \u001b[0;34m(\u001b[0m\u001b[0mtype\u001b[0m\u001b[0;34m(\u001b[0m\u001b[0mval\u001b[0m\u001b[0;34m)\u001b[0m\u001b[0;34m,\u001b[0m \u001b[0mval\u001b[0m\u001b[0;34m)\u001b[0m\u001b[0;34m\u001b[0m\u001b[0m\n\u001b[0;32m--> 110\u001b[0;31m         \u001b[0;32mraise\u001b[0m \u001b[0mTypeError\u001b[0m\u001b[0;34m(\u001b[0m\u001b[0mmsg\u001b[0m\u001b[0;34m)\u001b[0m\u001b[0;34m\u001b[0m\u001b[0m\n\u001b[0m\u001b[1;32m    111\u001b[0m     \u001b[0;32mreturn\u001b[0m \u001b[0mdynamodb_type\u001b[0m\u001b[0;34m\u001b[0m\u001b[0m\n\u001b[1;32m    112\u001b[0m \u001b[0;34m\u001b[0m\u001b[0m\n",
        "\u001b[0;31mTypeError\u001b[0m: Unsupported type \"<type 'datetime.datetime'>\" for value \"2015-01-15 13:32:46.030858\""
       ]
      }
     ],
     "prompt_number": 19
    },
    {
     "cell_type": "code",
     "collapsed": false,
     "input": [
      "msgs[0].date.isoformat()"
     ],
     "language": "python",
     "metadata": {},
     "outputs": [
      {
       "metadata": {},
       "output_type": "pyout",
       "prompt_number": 20,
       "text": [
        "'2015-01-15T13:32:46.030858'"
       ]
      }
     ],
     "prompt_number": 20
    },
    {
     "cell_type": "code",
     "collapsed": false,
     "input": [
      "def getDynamoDBMessage(message):\n",
      "    dyn_msg = {}\n",
      "    dyn_msg['date'] = message.date.isoformat()\n",
      "    dyn_msg['message'] = message.message\n",
      "    dyn_msg['user'] = message.user\n",
      "\n",
      "    return dyn_msg"
     ],
     "language": "python",
     "metadata": {},
     "outputs": [],
     "prompt_number": 21
    },
    {
     "cell_type": "code",
     "collapsed": false,
     "input": [
      "def storeMessageArray(date_string, messages):\n",
      "    global msg_table\n",
      "    dyn_dict = {}\n",
      "    for msg in messages:\n",
      "        dyn_dict = getDynamoDBMessage(msg)\n",
      "        dyn_dict['date_string'] = date_string\n",
      "        msg_table.put_item(data = dyn_dict)"
     ],
     "language": "python",
     "metadata": {},
     "outputs": [],
     "prompt_number": 22
    },
    {
     "cell_type": "code",
     "collapsed": false,
     "input": [
      "import dateutil\n",
      "from chatModels import Message\n",
      "def getMessageFromDynObject(dyn_dict):\n",
      "    return Message(user = dyn_dict['user']\n",
      "            , date = dateutil.parser.parse(dyn_dict['date'])\n",
      "            , message = dyn_dict['message'])"
     ],
     "language": "python",
     "metadata": {},
     "outputs": [],
     "prompt_number": 24
    },
    {
     "cell_type": "code",
     "collapsed": false,
     "input": [
      "storeMessageArray(\"2015_01_14\", msgs)"
     ],
     "language": "python",
     "metadata": {},
     "outputs": [],
     "prompt_number": 23
    },
    {
     "cell_type": "code",
     "collapsed": false,
     "input": [
      "db_msg = msg_table.scan()\n",
      "db_lst = [getMessageFromDynObject(x) for x in db_msg]\n",
      "db_lst"
     ],
     "language": "python",
     "metadata": {},
     "outputs": [
      {
       "metadata": {},
       "output_type": "pyout",
       "prompt_number": 25,
       "text": [
        "[Date: 2015-01-15 00:32:46.030858 - User: test user0 - Message: test message 0,\n",
        " Date: 2015-01-15 01:32:46.030858 - User: test user1 - Message: test message 1,\n",
        " Date: 2015-01-15 02:32:46.030858 - User: test user2 - Message: test message 2,\n",
        " Date: 2015-01-15 03:32:46.030858 - User: test user3 - Message: test message 3,\n",
        " Date: 2015-01-15 04:32:46.030858 - User: test user4 - Message: test message 4,\n",
        " Date: 2015-01-15 05:32:46.030858 - User: test user5 - Message: test message 5,\n",
        " Date: 2015-01-15 06:32:46.030858 - User: test user6 - Message: test message 6,\n",
        " Date: 2015-01-15 07:32:46.030858 - User: test user7 - Message: test message 7,\n",
        " Date: 2015-01-15 08:32:46.030858 - User: test user8 - Message: test message 8,\n",
        " Date: 2015-01-15 09:32:46.030858 - User: test user9 - Message: test message 9,\n",
        " Date: 2015-01-15 10:32:46.030858 - User: test user10 - Message: test message 10,\n",
        " Date: 2015-01-15 11:32:46.030858 - User: test user11 - Message: test message 11,\n",
        " Date: 2015-01-15 12:32:46.030858 - User: test user12 - Message: test message 12,\n",
        " Date: 2015-01-15 13:32:46.030858 - User: test user13 - Message: test message 13]"
       ]
      }
     ],
     "prompt_number": 25
    },
    {
     "cell_type": "code",
     "collapsed": false,
     "input": [
      "[getMessageFromDynObject(x) for x in msg_table.query(date_string__eq = \"2015_01_14\")]"
     ],
     "language": "python",
     "metadata": {},
     "outputs": [
      {
       "metadata": {},
       "output_type": "pyout",
       "prompt_number": 26,
       "text": [
        "[Date: 2015-01-15 13:32:46.030858 - User: test user13 - Message: test message 13,\n",
        " Date: 2015-01-15 12:32:46.030858 - User: test user12 - Message: test message 12,\n",
        " Date: 2015-01-15 11:32:46.030858 - User: test user11 - Message: test message 11,\n",
        " Date: 2015-01-15 10:32:46.030858 - User: test user10 - Message: test message 10,\n",
        " Date: 2015-01-15 09:32:46.030858 - User: test user9 - Message: test message 9,\n",
        " Date: 2015-01-15 08:32:46.030858 - User: test user8 - Message: test message 8,\n",
        " Date: 2015-01-15 07:32:46.030858 - User: test user7 - Message: test message 7,\n",
        " Date: 2015-01-15 06:32:46.030858 - User: test user6 - Message: test message 6,\n",
        " Date: 2015-01-15 05:32:46.030858 - User: test user5 - Message: test message 5,\n",
        " Date: 2015-01-15 04:32:46.030858 - User: test user4 - Message: test message 4,\n",
        " Date: 2015-01-15 03:32:46.030858 - User: test user3 - Message: test message 3,\n",
        " Date: 2015-01-15 02:32:46.030858 - User: test user2 - Message: test message 2,\n",
        " Date: 2015-01-15 01:32:46.030858 - User: test user1 - Message: test message 1,\n",
        " Date: 2015-01-15 00:32:46.030858 - User: test user0 - Message: test message 0]"
       ]
      }
     ],
     "prompt_number": 26
    },
    {
     "cell_type": "code",
     "collapsed": false,
     "input": [
      "[getMessageFromDynObject(x) for x in msg_table.query(date_string__eq = \"2015_01_14\", date__gte = \"2015-01-15T07:00:00\")]"
     ],
     "language": "python",
     "metadata": {},
     "outputs": [
      {
       "metadata": {},
       "output_type": "pyout",
       "prompt_number": 27,
       "text": [
        "[Date: 2015-01-15 13:32:46.030858 - User: test user13 - Message: test message 13,\n",
        " Date: 2015-01-15 12:32:46.030858 - User: test user12 - Message: test message 12,\n",
        " Date: 2015-01-15 11:32:46.030858 - User: test user11 - Message: test message 11,\n",
        " Date: 2015-01-15 10:32:46.030858 - User: test user10 - Message: test message 10,\n",
        " Date: 2015-01-15 09:32:46.030858 - User: test user9 - Message: test message 9,\n",
        " Date: 2015-01-15 08:32:46.030858 - User: test user8 - Message: test message 8,\n",
        " Date: 2015-01-15 07:32:46.030858 - User: test user7 - Message: test message 7]"
       ]
      }
     ],
     "prompt_number": 27
    },
    {
     "cell_type": "code",
     "collapsed": false,
     "input": [
      "storeMessageArray(\"2015_02_14\", msgs)"
     ],
     "language": "python",
     "metadata": {},
     "outputs": [],
     "prompt_number": 28
    },
    {
     "cell_type": "code",
     "collapsed": false,
     "input": [
      "[getMessageFromDynObject(x) for x in msg_table.query(date_string__gte = \"2015_01_00\")]"
     ],
     "language": "python",
     "metadata": {},
     "outputs": [
      {
       "ename": "ValidationException",
       "evalue": "ValidationException: 400 Bad Request\n{u'Message': u'All queries must have a condition on the hash key, and it must be of type EQ', u'__type': u'com.amazon.coral.validate#ValidationException'}",
       "output_type": "pyerr",
       "traceback": [
        "\u001b[0;31m---------------------------------------------------------------------------\u001b[0m\n\u001b[0;31mValidationException\u001b[0m                       Traceback (most recent call last)",
        "\u001b[0;32m<ipython-input-29-3603f6018613>\u001b[0m in \u001b[0;36m<module>\u001b[0;34m()\u001b[0m\n\u001b[0;32m----> 1\u001b[0;31m \u001b[0;34m[\u001b[0m\u001b[0mgetMessageFromDynObject\u001b[0m\u001b[0;34m(\u001b[0m\u001b[0mx\u001b[0m\u001b[0;34m)\u001b[0m \u001b[0;32mfor\u001b[0m \u001b[0mx\u001b[0m \u001b[0;32min\u001b[0m \u001b[0mmsg_table\u001b[0m\u001b[0;34m.\u001b[0m\u001b[0mquery\u001b[0m\u001b[0;34m(\u001b[0m\u001b[0mdate_string__gte\u001b[0m \u001b[0;34m=\u001b[0m \u001b[0;34m\"2015_01_00\"\u001b[0m\u001b[0;34m)\u001b[0m\u001b[0;34m]\u001b[0m\u001b[0;34m\u001b[0m\u001b[0m\n\u001b[0m",
        "\u001b[0;32m/Users/jalexander/.virtualenvs/pywebchat/lib/python2.7/site-packages/boto/dynamodb2/results.pyc\u001b[0m in \u001b[0;36mnext\u001b[0;34m(self)\u001b[0m\n\u001b[1;32m     60\u001b[0m                 \u001b[0;32mraise\u001b[0m \u001b[0mStopIteration\u001b[0m\u001b[0;34m(\u001b[0m\u001b[0;34m)\u001b[0m\u001b[0;34m\u001b[0m\u001b[0m\n\u001b[1;32m     61\u001b[0m \u001b[0;34m\u001b[0m\u001b[0m\n\u001b[0;32m---> 62\u001b[0;31m             \u001b[0mself\u001b[0m\u001b[0;34m.\u001b[0m\u001b[0mfetch_more\u001b[0m\u001b[0;34m(\u001b[0m\u001b[0;34m)\u001b[0m\u001b[0;34m\u001b[0m\u001b[0m\n\u001b[0m\u001b[1;32m     63\u001b[0m \u001b[0;34m\u001b[0m\u001b[0m\n\u001b[1;32m     64\u001b[0m             \u001b[0;31m# It's possible that previous call to ``fetch_more`` may not return\u001b[0m\u001b[0;34m\u001b[0m\u001b[0;34m\u001b[0m\u001b[0m\n",
        "\u001b[0;32m/Users/jalexander/.virtualenvs/pywebchat/lib/python2.7/site-packages/boto/dynamodb2/results.pyc\u001b[0m in \u001b[0;36mfetch_more\u001b[0;34m(self)\u001b[0m\n\u001b[1;32m    133\u001b[0m             \u001b[0mkwargs\u001b[0m\u001b[0;34m[\u001b[0m\u001b[0;34m'limit'\u001b[0m\u001b[0;34m]\u001b[0m \u001b[0;34m=\u001b[0m \u001b[0mself\u001b[0m\u001b[0;34m.\u001b[0m\u001b[0m_max_page_size\u001b[0m\u001b[0;34m\u001b[0m\u001b[0m\n\u001b[1;32m    134\u001b[0m \u001b[0;34m\u001b[0m\u001b[0m\n\u001b[0;32m--> 135\u001b[0;31m         \u001b[0mresults\u001b[0m \u001b[0;34m=\u001b[0m \u001b[0mself\u001b[0m\u001b[0;34m.\u001b[0m\u001b[0mthe_callable\u001b[0m\u001b[0;34m(\u001b[0m\u001b[0;34m*\u001b[0m\u001b[0margs\u001b[0m\u001b[0;34m,\u001b[0m \u001b[0;34m**\u001b[0m\u001b[0mkwargs\u001b[0m\u001b[0;34m)\u001b[0m\u001b[0;34m\u001b[0m\u001b[0m\n\u001b[0m\u001b[1;32m    136\u001b[0m         \u001b[0mself\u001b[0m\u001b[0;34m.\u001b[0m\u001b[0m_fetches\u001b[0m \u001b[0;34m+=\u001b[0m \u001b[0;36m1\u001b[0m\u001b[0;34m\u001b[0m\u001b[0m\n\u001b[1;32m    137\u001b[0m         \u001b[0mnew_results\u001b[0m \u001b[0;34m=\u001b[0m \u001b[0mresults\u001b[0m\u001b[0;34m.\u001b[0m\u001b[0mget\u001b[0m\u001b[0;34m(\u001b[0m\u001b[0;34m'results'\u001b[0m\u001b[0;34m,\u001b[0m \u001b[0;34m[\u001b[0m\u001b[0;34m]\u001b[0m\u001b[0;34m)\u001b[0m\u001b[0;34m\u001b[0m\u001b[0m\n",
        "\u001b[0;32m/Users/jalexander/.virtualenvs/pywebchat/lib/python2.7/site-packages/boto/dynamodb2/table.pyc\u001b[0m in \u001b[0;36m_query\u001b[0;34m(self, limit, index, reverse, consistent, exclusive_start_key, select, attributes_to_get, **filter_kwargs)\u001b[0m\n\u001b[1;32m    990\u001b[0m         raw_results = self.connection.query(\n\u001b[1;32m    991\u001b[0m             \u001b[0mself\u001b[0m\u001b[0;34m.\u001b[0m\u001b[0mtable_name\u001b[0m\u001b[0;34m,\u001b[0m\u001b[0;34m\u001b[0m\u001b[0m\n\u001b[0;32m--> 992\u001b[0;31m             \u001b[0;34m**\u001b[0m\u001b[0mkwargs\u001b[0m\u001b[0;34m\u001b[0m\u001b[0m\n\u001b[0m\u001b[1;32m    993\u001b[0m         )\n\u001b[1;32m    994\u001b[0m         \u001b[0mresults\u001b[0m \u001b[0;34m=\u001b[0m \u001b[0;34m[\u001b[0m\u001b[0;34m]\u001b[0m\u001b[0;34m\u001b[0m\u001b[0m\n",
        "\u001b[0;32m/Users/jalexander/.virtualenvs/pywebchat/lib/python2.7/site-packages/boto/dynamodb2/layer1.pyc\u001b[0m in \u001b[0;36mquery\u001b[0;34m(self, table_name, index_name, select, attributes_to_get, limit, consistent_read, key_conditions, scan_index_forward, exclusive_start_key, return_consumed_capacity)\u001b[0m\n\u001b[1;32m    973\u001b[0m             \u001b[0mparams\u001b[0m\u001b[0;34m[\u001b[0m\u001b[0;34m'ReturnConsumedCapacity'\u001b[0m\u001b[0;34m]\u001b[0m \u001b[0;34m=\u001b[0m \u001b[0mreturn_consumed_capacity\u001b[0m\u001b[0;34m\u001b[0m\u001b[0m\n\u001b[1;32m    974\u001b[0m         return self.make_request(action='Query',\n\u001b[0;32m--> 975\u001b[0;31m                                  body=json.dumps(params))\n\u001b[0m\u001b[1;32m    976\u001b[0m \u001b[0;34m\u001b[0m\u001b[0m\n\u001b[1;32m    977\u001b[0m     def scan(self, table_name, attributes_to_get=None, limit=None,\n",
        "\u001b[0;32m/Users/jalexander/.virtualenvs/pywebchat/lib/python2.7/site-packages/boto/dynamodb2/layer1.pyc\u001b[0m in \u001b[0;36mmake_request\u001b[0;34m(self, action, body)\u001b[0m\n\u001b[1;32m   1481\u001b[0m         response = self._mexe(http_request, sender=None,\n\u001b[1;32m   1482\u001b[0m                               \u001b[0moverride_num_retries\u001b[0m\u001b[0;34m=\u001b[0m\u001b[0mself\u001b[0m\u001b[0;34m.\u001b[0m\u001b[0mNumberRetries\u001b[0m\u001b[0;34m,\u001b[0m\u001b[0;34m\u001b[0m\u001b[0m\n\u001b[0;32m-> 1483\u001b[0;31m                               retry_handler=self._retry_handler)\n\u001b[0m\u001b[1;32m   1484\u001b[0m         \u001b[0mresponse_body\u001b[0m \u001b[0;34m=\u001b[0m \u001b[0mresponse\u001b[0m\u001b[0;34m.\u001b[0m\u001b[0mread\u001b[0m\u001b[0;34m(\u001b[0m\u001b[0;34m)\u001b[0m\u001b[0;34m\u001b[0m\u001b[0m\n\u001b[1;32m   1485\u001b[0m         \u001b[0mboto\u001b[0m\u001b[0;34m.\u001b[0m\u001b[0mlog\u001b[0m\u001b[0;34m.\u001b[0m\u001b[0mdebug\u001b[0m\u001b[0;34m(\u001b[0m\u001b[0mresponse_body\u001b[0m\u001b[0;34m)\u001b[0m\u001b[0;34m\u001b[0m\u001b[0m\n",
        "\u001b[0;32m/Users/jalexander/.virtualenvs/pywebchat/lib/python2.7/site-packages/boto/connection.pyc\u001b[0m in \u001b[0;36m_mexe\u001b[0;34m(self, request, sender, override_num_retries, retry_handler)\u001b[0m\n\u001b[1;32m    909\u001b[0m                     \u001b[0mresponse\u001b[0m\u001b[0;34m.\u001b[0m\u001b[0mchunked\u001b[0m \u001b[0;34m=\u001b[0m \u001b[0;36m0\u001b[0m\u001b[0;34m\u001b[0m\u001b[0m\n\u001b[1;32m    910\u001b[0m                 \u001b[0;32mif\u001b[0m \u001b[0mcallable\u001b[0m\u001b[0;34m(\u001b[0m\u001b[0mretry_handler\u001b[0m\u001b[0;34m)\u001b[0m\u001b[0;34m:\u001b[0m\u001b[0;34m\u001b[0m\u001b[0m\n\u001b[0;32m--> 911\u001b[0;31m                     \u001b[0mstatus\u001b[0m \u001b[0;34m=\u001b[0m \u001b[0mretry_handler\u001b[0m\u001b[0;34m(\u001b[0m\u001b[0mresponse\u001b[0m\u001b[0;34m,\u001b[0m \u001b[0mi\u001b[0m\u001b[0;34m,\u001b[0m \u001b[0mnext_sleep\u001b[0m\u001b[0;34m)\u001b[0m\u001b[0;34m\u001b[0m\u001b[0m\n\u001b[0m\u001b[1;32m    912\u001b[0m                     \u001b[0;32mif\u001b[0m \u001b[0mstatus\u001b[0m\u001b[0;34m:\u001b[0m\u001b[0;34m\u001b[0m\u001b[0m\n\u001b[1;32m    913\u001b[0m                         \u001b[0mmsg\u001b[0m\u001b[0;34m,\u001b[0m \u001b[0mi\u001b[0m\u001b[0;34m,\u001b[0m \u001b[0mnext_sleep\u001b[0m \u001b[0;34m=\u001b[0m \u001b[0mstatus\u001b[0m\u001b[0;34m\u001b[0m\u001b[0m\n",
        "\u001b[0;32m/Users/jalexander/.virtualenvs/pywebchat/lib/python2.7/site-packages/boto/dynamodb2/layer1.pyc\u001b[0m in \u001b[0;36m_retry_handler\u001b[0;34m(self, response, i, next_sleep)\u001b[0m\n\u001b[1;32m   1521\u001b[0m             \u001b[0;32melif\u001b[0m \u001b[0;34m'ValidationException'\u001b[0m \u001b[0;32min\u001b[0m \u001b[0mdata\u001b[0m\u001b[0;34m.\u001b[0m\u001b[0mget\u001b[0m\u001b[0;34m(\u001b[0m\u001b[0;34m'__type'\u001b[0m\u001b[0;34m)\u001b[0m\u001b[0;34m:\u001b[0m\u001b[0;34m\u001b[0m\u001b[0m\n\u001b[1;32m   1522\u001b[0m                 raise exceptions.ValidationException(\n\u001b[0;32m-> 1523\u001b[0;31m                     response.status, response.reason, data)\n\u001b[0m\u001b[1;32m   1524\u001b[0m             \u001b[0;32melse\u001b[0m\u001b[0;34m:\u001b[0m\u001b[0;34m\u001b[0m\u001b[0m\n\u001b[1;32m   1525\u001b[0m                 raise self.ResponseError(response.status, response.reason,\n",
        "\u001b[0;31mValidationException\u001b[0m: ValidationException: 400 Bad Request\n{u'Message': u'All queries must have a condition on the hash key, and it must be of type EQ', u'__type': u'com.amazon.coral.validate#ValidationException'}"
       ]
      }
     ],
     "prompt_number": 29
    },
    {
     "cell_type": "code",
     "collapsed": false,
     "input": [
      "# http://docs.aws.amazon.com/amazondynamodb/latest/developerguide/QueryAndScan.html\n",
      "\n",
      "# Assume your object will be serialized to JSON. If it can be JSON serialized, its JSON serialization can be saved to DynamoDB\n",
      "\n",
      "# Hash Keys represent a single \"object\" (i.e. the nature of hashing a value to return a single result)\n",
      "\n",
      "# Use Range Keys to search within a given Hash Key\n",
      "\n",
      "# If needing to search / operate on all Hash Keys, a table scan (or map reduce) is required\n",
      "\n",
      "conn.delete_table('demo_message')"
     ],
     "language": "python",
     "metadata": {},
     "outputs": []
    },
    {
     "cell_type": "code",
     "collapsed": false,
     "input": [
      "[getMessageFromDynObject(x) for x in msg_table.query_2(date_string__eq = \"2015_01_14\", date__gte = \"2015-01-15T07:00:00\")]"
     ],
     "language": "python",
     "metadata": {},
     "outputs": [
      {
       "ename": "AttributeError",
       "evalue": "'Table' object has no attribute 'query_2'",
       "output_type": "pyerr",
       "traceback": [
        "\u001b[0;31m---------------------------------------------------------------------------\u001b[0m\n\u001b[0;31mAttributeError\u001b[0m                            Traceback (most recent call last)",
        "\u001b[0;32m<ipython-input-30-f6c35cf4a8e2>\u001b[0m in \u001b[0;36m<module>\u001b[0;34m()\u001b[0m\n\u001b[0;32m----> 1\u001b[0;31m \u001b[0;34m[\u001b[0m\u001b[0mgetMessageFromDynObject\u001b[0m\u001b[0;34m(\u001b[0m\u001b[0mx\u001b[0m\u001b[0;34m)\u001b[0m \u001b[0;32mfor\u001b[0m \u001b[0mx\u001b[0m \u001b[0;32min\u001b[0m \u001b[0mmsg_table\u001b[0m\u001b[0;34m.\u001b[0m\u001b[0mquery_2\u001b[0m\u001b[0;34m(\u001b[0m\u001b[0mdate_string__eq\u001b[0m \u001b[0;34m=\u001b[0m \u001b[0;34m\"2015_01_14\"\u001b[0m\u001b[0;34m,\u001b[0m \u001b[0mdate__gte\u001b[0m \u001b[0;34m=\u001b[0m \u001b[0;34m\"2015-01-15T07:00:00\"\u001b[0m\u001b[0;34m)\u001b[0m\u001b[0;34m]\u001b[0m\u001b[0;34m\u001b[0m\u001b[0m\n\u001b[0m",
        "\u001b[0;31mAttributeError\u001b[0m: 'Table' object has no attribute 'query_2'"
       ]
      }
     ],
     "prompt_number": 30
    },
    {
     "cell_type": "code",
     "collapsed": false,
     "input": [],
     "language": "python",
     "metadata": {},
     "outputs": []
    }
   ],
   "metadata": {}
  }
 ]
}